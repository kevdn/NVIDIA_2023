{
 "cells": [
  {
   "cell_type": "code",
   "execution_count": 1,
   "metadata": {},
   "outputs": [],
   "source": [
    "import torch\n",
    "import os\n",
    "import glob\n",
    "import json\n",
    "from PIL import Image\n",
    "import cv2\n",
    "import numpy as np\n",
    "import pandas as pd"
   ]
  },
  {
   "cell_type": "code",
   "execution_count": 9,
   "metadata": {},
   "outputs": [],
   "source": [
    "def remove_background(image_path, seg_label_path, output_path=None,  use_otsu=True):\n",
    "    try:\n",
    "        # Read input files\n",
    "        image = cv2.imread(image_path)\n",
    "        seg_label = cv2.imread(seg_label_path)\n",
    "\n",
    "        # Convert segmentation label to binary mask\n",
    "        mask = cv2.cvtColor(seg_label, cv2.COLOR_BGR2GRAY)\n",
    "        if use_otsu:\n",
    "            _, mask = cv2.threshold(mask, 0, 255, cv2.THRESH_BINARY+cv2.THRESH_OTSU)\n",
    "        else:\n",
    "            _, mask = cv2.threshold(mask, 1, 255, cv2.THRESH_BINARY)\n",
    "\n",
    "        # Invert binary mask\n",
    "        mask_inv = cv2.bitwise_or(mask, 0)\n",
    "\n",
    "        # Apply mask to image to remove background\n",
    "        image_without_bg = cv2.bitwise_and(image, image, mask=mask_inv)\n",
    "       \n",
    "        # Save resulting image\n",
    "        if output_path is not None:\n",
    "            cv2.imwrite(output_path, image_without_bg)\n",
    "\n",
    "    except Exception as e:\n",
    "        print(f\"Error: {e}\")\n"
   ]
  }
 ],
 "metadata": {
  "language_info": {
   "name": "python"
  },
  "orig_nbformat": 4
 },
 "nbformat": 4,
 "nbformat_minor": 2
}
